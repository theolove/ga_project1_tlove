{
 "metadata": {
  "name": "",
  "signature": "sha256:f4b1357f42c20c6dbac2c297d21739a0fde7ac4444ca40c191ad112d818c1ee0"
 },
 "nbformat": 3,
 "nbformat_minor": 0,
 "worksheets": []
}