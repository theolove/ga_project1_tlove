{
 "cells": [
  {
   "cell_type": "code",
   "execution_count": 1,
   "metadata": {
    "collapsed": false
   },
   "outputs": [
    {
     "name": "stdout",
     "output_type": "stream",
     "text": [
      "Populating the interactive namespace from numpy and matplotlib\n"
     ]
    }
   ],
   "source": [
    "%pylab inline\n",
    "import pandas as pd\n",
    "from sqlalchemy import create_engine"
   ]
  },
  {
   "cell_type": "code",
   "execution_count": null,
   "metadata": {
    "collapsed": false
   },
   "outputs": [],
   "source": []
  },
  {
   "cell_type": "code",
   "execution_count": 3,
   "metadata": {
    "collapsed": true
   },
   "outputs": [],
   "source": [
    "# get all the tables into pandas dataframes\n",
    "allstarfull = pd.read_sql_query(\"SELECT * FROM allstarfull\", cnx)\n",
    "fielding = pd.read_sql_query(\"SELECT * FROM fielding\", cnx)\n",
    "salaries = pd.read_sql_query(\"SELECT * FROM salaries\", cnx)\n",
    "schools = pd.read_sql_query(\"SELECT * FROM schools\", cnx)\n",
    "collegeplaying = pd.read_sql_query(\"SELECT * FROM collegeplaying\", cnx)\n",
    "teams = pd.read_sql_query(\"SELECT * FROM teams\", cnx)"
   ]
  },
  {
   "cell_type": "code",
   "execution_count": 4,
   "metadata": {
    "collapsed": true
   },
   "outputs": [],
   "source": [
    "# a helper function to see if the sql query matches the pandas query\n",
    "# prints the length of each result and returns the sum of matches for each column\n",
    "def test_query(pd_q, sql_q):\n",
    "    print 'pandas df length:', len(pd_q)\n",
    "    print 'sql query length:', len(sql_q)\n",
    "    return (pd_q == sql_q).sum()"
   ]
  },
  {
   "cell_type": "code",
   "execution_count": 5,
   "metadata": {
    "collapsed": false
   },
   "outputs": [
    {
     "name": "stdout",
     "output_type": "stream",
     "text": [
      "pandas df length: 12627\n",
      "sql query length: 12627\n"
     ]
    },
    {
     "data": {
      "text/plain": [
       "index           0\n",
       "playerid    12627\n",
       "salary      12627\n",
       "dtype: int64"
      ]
     },
     "execution_count": 5,
     "metadata": {},
     "output_type": "execute_result"
    }
   ],
   "source": [
    "\"\"\" \n",
    "Query Number 1.\n",
    "Show all playerids and salaries with a salary in the year 1985 above 500k.\n",
    "\"\"\"\n",
    "q1_pd = salaries[(salaries.salary > 500000) & (salaries.yearid > 1985)][['playerid','salary']]\n",
    "\n",
    "q1_query = \"SELECT playerid, salary FROM salaries WHERE yearid > 1985 AND salary > 500000\"\n",
    "q1_sql = pd.read_sql_query(q1_query, cnx)\n",
    "\n",
    "test_query(q1_sql.reset_index().sort(columns='playerid'),\n",
    "           q1_pd.reset_index().sort(columns='playerid'))"
   ]
  },
  {
   "cell_type": "code",
   "execution_count": 6,
   "metadata": {
    "collapsed": false
   },
   "outputs": [
    {
     "name": "stdout",
     "output_type": "stream",
     "text": [
      "pandas df length: 406\n",
      "sql query length: 406\n"
     ]
    },
    {
     "data": {
      "text/plain": [
       "index       0\n",
       "teamid    406\n",
       "yearid    406\n",
       "dtype: int64"
      ]
     },
     "execution_count": 6,
     "metadata": {},
     "output_type": "execute_result"
    }
   ],
   "source": [
    "\"\"\" \n",
    "Query Number 2.\n",
    "Show the team for each year that had a rank of 1.\n",
    "\"\"\"\n",
    "q2_pd = teams[teams['rank'] == 1][['teamid', 'yearid']]\n",
    "\n",
    "q2_query = \"SELECT teamid, yearid FROM teams WHERE rank = 1\"\n",
    "q2_sql = pd.read_sql_query(q2_query, cnx)\n",
    "\n",
    "test_query(q2_sql.reset_index().sort(columns=['teamid', 'yearid']), \n",
    "           q2_pd.reset_index().sort(columns=['teamid', 'yearid']))"
   ]
  },
  {
   "cell_type": "code",
   "execution_count": 7,
   "metadata": {
    "collapsed": false
   },
   "outputs": [
    {
     "data": {
      "text/html": [
       "<div style=\"max-height:1000px;max-width:1500px;overflow:auto;\">\n",
       "<table border=\"1\" class=\"dataframe\">\n",
       "  <thead>\n",
       "    <tr style=\"text-align: right;\">\n",
       "      <th></th>\n",
       "      <th>count</th>\n",
       "    </tr>\n",
       "  </thead>\n",
       "  <tbody>\n",
       "    <tr>\n",
       "      <th>0</th>\n",
       "      <td> True</td>\n",
       "    </tr>\n",
       "  </tbody>\n",
       "</table>\n",
       "</div>"
      ],
      "text/plain": [
       "  count\n",
       "0  True"
      ]
     },
     "execution_count": 7,
     "metadata": {},
     "output_type": "execute_result"
    }
   ],
   "source": [
    "\"\"\" \n",
    "Query Number 3.\n",
    "How many schools are in schoolstate of CT?\n",
    "\"\"\"\n",
    "q3_pd = len(schools[schools.schoolstate == 'CT'])\n",
    "\n",
    "q3_query = \"SELECT COUNT(schoolid) FROM schools WHERE schoolstate = 'CT'\"\n",
    "q3_sql = pd.read_sql_query(q3_query, cnx)\n",
    "\n",
    "q3_sql == q3_pd"
   ]
  },
  {
   "cell_type": "code",
   "execution_count": 8,
   "metadata": {
    "collapsed": false
   },
   "outputs": [
    {
     "name": "stdout",
     "output_type": "stream",
     "text": [
      "pandas df length: 49\n",
      "sql query length: 49\n"
     ]
    },
    {
     "data": {
      "text/plain": [
       "schoolid    49\n",
       "dtype: int64"
      ]
     },
     "execution_count": 8,
     "metadata": {},
     "output_type": "execute_result"
    }
   ],
   "source": [
    "\"\"\" \n",
    "Query Number 4.\n",
    "How many schools are there in each state?\n",
    "\"\"\"\n",
    "q4_pd = schools[['schoolstate', 'schoolid']].groupby('schoolstate').count()\n",
    "\n",
    "q4_query = \"SELECT schoolstate, COUNT(schoolid) FROM schools GROUP BY schoolstate\"\n",
    "q4_sql = pd.read_sql_query(q4_query, cnx)\n",
    "q4_sql = q4_sql.set_index('schoolstate').sort()\n",
    "q4_sql.columns = ['schoolid']\n",
    "\n",
    "test_query(q4_sql, q4_pd)"
   ]
  },
  {
   "cell_type": "code",
   "execution_count": 9,
   "metadata": {
    "collapsed": false
   },
   "outputs": [
    {
     "name": "stdout",
     "output_type": "stream",
     "text": [
      "pandas df length: 860\n",
      "sql query length: 860\n"
     ]
    },
    {
     "data": {
      "text/plain": [
       "salary    860\n",
       "dtype: int64"
      ]
     },
     "execution_count": 9,
     "metadata": {},
     "output_type": "execute_result"
    }
   ],
   "source": [
    "\"\"\" \n",
    "Query Number 5.\n",
    "What was the total spend on salaries by each team, each year?\n",
    "\"\"\"\n",
    "q5_pd = salaries[['teamid', 'yearid', 'salary']].groupby(['teamid', 'yearid']).sum()\n",
    "\n",
    "q5_query = \"SELECT teamid, yearid, SUM(salary) FROM salaries GROUP BY teamid, yearid\"\n",
    "q5_sql = pd.read_sql_query(q5_query, cnx)\n",
    "q5_sql = q5_sql.groupby(['teamid', 'yearid']).sum().sort()\n",
    "q5_sql.columns = ['salary']\n",
    "\n",
    "test_query(q5_sql, q5_pd)"
   ]
  },
  {
   "cell_type": "code",
   "execution_count": 10,
   "metadata": {
    "collapsed": false
   },
   "outputs": [
    {
     "name": "stdout",
     "output_type": "stream",
     "text": [
      "pandas df length: 90\n",
      "sql query length: 90\n"
     ]
    },
    {
     "data": {
      "text/plain": [
       "playerid    90\n",
       "salary      90\n",
       "dtype: int64"
      ]
     },
     "execution_count": 10,
     "metadata": {},
     "output_type": "execute_result"
    }
   ],
   "source": [
    "\"\"\" \n",
    "Query Number 6.\n",
    "Find all of the salaries of shortstops (fieldings, pos) for the year 2012.\n",
    "\"\"\"\n",
    "q6_pd = salaries[salaries.yearid == 2012][['playerid', 'salary']].merge(\n",
    "                fielding[(fielding.pos == 'SS') & (fielding.yearid == 2012)][['playerid']],\n",
    "                on=['playerid'],\n",
    "                how=\"inner\")\n",
    "\n",
    "q6_query = \"SELECT \\\n",
    "    salaries.playerid, salaries.salary \\\n",
    " FROM salaries \\\n",
    " INNER JOIN fielding on salaries.playerid = fielding.playerid \\\n",
    " WHERE \\\n",
    "    fielding.pos = 'SS' AND \\\n",
    "    salaries.yearid = 2012 AND \\\n",
    "    fielding.yearid = 2012\"\n",
    "q6_sql = pd.read_sql_query(q6_query, cnx)\n",
    "\n",
    "test_query(q6_sql, q6_pd)"
   ]
  },
  {
   "cell_type": "code",
   "execution_count": 11,
   "metadata": {
    "collapsed": false
   },
   "outputs": [
    {
     "name": "stdout",
     "output_type": "stream",
     "text": [
      "pandas df length: 18214\n",
      "sql query length: 18214\n"
     ]
    },
    {
     "data": {
      "text/plain": [
       "min    18214\n",
       "max    18214\n",
       "dtype: int64"
      ]
     },
     "execution_count": 11,
     "metadata": {},
     "output_type": "execute_result"
    }
   ],
   "source": [
    "\"\"\" \n",
    "Query Number 7.\n",
    "What is the first and last year played for each player?\n",
    "\"\"\"\n",
    "def min_max_year(df):\n",
    "    min_year = df.yearid.min()\n",
    "    max_year = df.yearid.max()\n",
    "    return pd.Series([min_year, max_year], index = ['min', 'max'])\n",
    "q7_pd = fielding.groupby('playerid').apply(min_max_year)\n",
    "\n",
    "q7_query = 'SELECT playerid, MIN(yearid), MAX(yearid) FROM fielding GROUP BY playerid'\n",
    "q7_sql = pd.read_sql_query(q7_query, cnx)\n",
    "\n",
    "test_query(q7_sql.groupby('playerid').sum().sort(), q7_pd)"
   ]
  },
  {
   "cell_type": "code",
   "execution_count": 12,
   "metadata": {
    "collapsed": false
   },
   "outputs": [
    {
     "data": {
      "text/plain": [
       "True"
      ]
     },
     "execution_count": 12,
     "metadata": {},
     "output_type": "execute_result"
    }
   ],
   "source": [
    "\"\"\" \n",
    "Query Number 8.\n",
    "Who has played the most all star games?\n",
    "\"\"\"\n",
    "q8_pd = allstarfull[['playerid','gameid']].groupby('playerid').count()\n",
    "q8_pd = q8_pd.sort('gameid', ascending=False).head(1)\n",
    "\n",
    "q8_query = '\\\n",
    "SELECT \\\n",
    "    playerid, \\\n",
    "    COUNT(gameid) \\\n",
    "FROM allstarfull \\\n",
    "GROUP BY playerid \\\n",
    "ORDER BY  COUNT(gameid) DESC \\\n",
    "LIMIT 1'\n",
    "q8_sql = pd.read_sql_query(q8_query, cnx)\n",
    "q8_sql\n",
    "\n",
    "q8_pd.index[0] == q8_sql.playerid.ix[0]"
   ]
  },
  {
   "cell_type": "code",
   "execution_count": 16,
   "metadata": {
    "collapsed": false
   },
   "outputs": [
    {
     "data": {
      "text/plain": [
       "True"
      ]
     },
     "execution_count": 16,
     "metadata": {},
     "output_type": "execute_result"
    }
   ],
   "source": [
    "\"\"\" \n",
    "Query Number 9.\n",
    "Which school has generated the most distinct players?\n",
    "\n",
    "I interpret this as the number of players in college \n",
    "that also were in fielding and the college that had the most of these.\n",
    "\n",
    "The problem with this is that there are some players who went to multiple schools\n",
    "Ex. aardsda01 went to both Penn State and Rice\n",
    "These people will be counted as having belonged to both schools\n",
    "\"\"\"\n",
    "q9_pd = schools[['schoolid', 'schoolname']].merge(collegeplaying, \n",
    "                                                  how='inner', \n",
    "                                                  left_on='schoolid', \n",
    "                                                  right_on='schoolid',)\n",
    "q9_pd = q9_pd.merge(fielding, how='inner', left_on='playerid', right_on='playerid')\n",
    "q9_pd = q9_pd[['schoolname', 'playerid']].drop_duplicates()\n",
    "q9_pd = q9_pd.groupby('schoolname').count().sort('playerid', ascending=False)\n",
    "\n",
    "q9_query = '\\\n",
    "SELECT \\\n",
    "    table2.schoolname, \\\n",
    "    COUNT (table2.playerid) \\\n",
    "FROM (SELECT DISTINCT \\\n",
    "        schools.schoolid, \\\n",
    "        schools.schoolname, \\\n",
    "        fielding.playerid \\\n",
    "    FROM collegeplaying \\\n",
    "    INNER JOIN schools on collegeplaying.schoolID = schools.schoolid \\\n",
    "    INNER JOIN fielding on collegeplaying.playerid = fielding.playerid) table2 \\\n",
    "GROUP BY table2.schoolname \\\n",
    "ORDER BY COUNT(table2.playerid) DESC'\n",
    "q9_sql = pd.read_sql_query(q9_query, cnx)\n",
    "q9_sql\n",
    "\n",
    "q9_pd.index[0] == q9_sql.schoolname.ix[0]"
   ]
  },
  {
   "cell_type": "code",
   "execution_count": null,
   "metadata": {
    "collapsed": false
   },
   "outputs": [],
   "source": []
  },
  {
   "cell_type": "code",
   "execution_count": null,
   "metadata": {
    "collapsed": false
   },
   "outputs": [],
   "source": []
  },
  {
   "cell_type": "code",
   "execution_count": null,
   "metadata": {
    "collapsed": false
   },
   "outputs": [],
   "source": []
  },
  {
   "cell_type": "code",
   "execution_count": null,
   "metadata": {
    "collapsed": false
   },
   "outputs": [],
   "source": []
  },
  {
   "cell_type": "code",
   "execution_count": null,
   "metadata": {
    "collapsed": true
   },
   "outputs": [],
   "source": []
  }
 ],
 "metadata": {
  "kernelspec": {
   "display_name": "Python 2",
   "language": "python",
   "name": "python2"
  },
  "language_info": {
   "codemirror_mode": {
    "name": "ipython",
    "version": 2
   },
   "file_extension": ".py",
   "mimetype": "text/x-python",
   "name": "python",
   "nbconvert_exporter": "python",
   "pygments_lexer": "ipython2",
   "version": "2.7.9"
  }
 },
 "nbformat": 4,
 "nbformat_minor": 0
}
