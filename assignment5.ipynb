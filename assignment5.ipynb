{
 "metadata": {
  "name": "",
  "signature": "sha256:9cf9a90f2875972d3ca1b15b47d549819e1bcade1ee31fd1a550beed2121f289"
 },
 "nbformat": 3,
 "nbformat_minor": 0,
 "worksheets": [
  {
   "cells": [
    {
     "cell_type": "code",
     "collapsed": false,
     "input": [
      "%pylab inline\n",
      "from __future__ import division\n",
      "import pandas as pd\n",
      "from sklearn import naive_bayes, cross_validation\n",
      "from sklearn.feature_extraction.text import CountVectorizer\n",
      "from sklearn.metrics import confusion_matrix"
     ],
     "language": "python",
     "metadata": {},
     "outputs": [
      {
       "output_type": "stream",
       "stream": "stdout",
       "text": [
        "Populating the interactive namespace from numpy and matplotlib\n"
       ]
      }
     ],
     "prompt_number": 3
    },
    {
     "cell_type": "code",
     "collapsed": false,
     "input": [
      "# read in the data and get the length of the quotes\n",
      "critics = pd.read_csv('../DAT18NYC/data/rt_critics.csv')\n",
      "critics['quote_len'] = critics.quote.apply(lambda x: len(x))\n",
      "\n",
      "# print some pertinent data\n",
      "print \"Unique movies: %i\" % len(critics.title.unique())\n",
      "print \"Unique critics: %i\" % len(critics.critic.unique())\n",
      "print \"Fresh\\\\Rotten: %i\\\\%i\" % (len(critics[critics.fresh == 'fresh']), len(critics[critics.fresh == 'rotten']))\n",
      "print\n",
      "print \"Description of quote lengths\"\n",
      "print \"============================\"\n",
      "print critics.quote_len.describe()\n",
      "print \n",
      "print \"Columns\"\n",
      "print \"=======\"\n",
      "print critics.columns"
     ],
     "language": "python",
     "metadata": {},
     "outputs": [
      {
       "output_type": "stream",
       "stream": "stdout",
       "text": [
        "Unique movies: 1736\n",
        "Unique critics: 622\n",
        "Fresh\\Rotten: 8613\\5436\n",
        "\n",
        "Description of quote lengths\n",
        "============================\n",
        "count    14072.000000\n",
        "mean       118.204946\n",
        "std         57.757129\n",
        "min          4.000000\n",
        "25%         73.000000\n",
        "50%        115.000000\n",
        "75%        160.000000\n",
        "max        256.000000\n",
        "dtype: float64\n",
        "\n",
        "Columns\n",
        "=======\n",
        "Index([u'critic', u'fresh', u'imdb', u'publication', u'quote', u'review_date', u'rtid', u'title', u'quote_len'], dtype='object')\n"
       ]
      }
     ],
     "prompt_number": 19
    },
    {
     "cell_type": "code",
     "collapsed": false,
     "input": [
      "# define the y as the fresh column with a 1 or 0\n",
      "y = (critics.fresh == 'fresh').values.astype(int)\n",
      "\n",
      "# make a vectorizers for ngrams of 1, 1 to 2, and 1 to 3\n",
      "vzr_1 = CountVectorizer(ngram_range=(1,1))\n",
      "vzr_2 = CountVectorizer(ngram_range=(1,2))\n",
      "vzr_3 = CountVectorizer(ngram_range=(1,3))\n",
      "x1 = vzr_1.fit_transform(critics.quote)\n",
      "x2 = vzr_2.fit_transform(critics.quote)\n",
      "x3 = vzr_3.fit_transform(critics.quote)\n"
     ],
     "language": "python",
     "metadata": {},
     "outputs": [],
     "prompt_number": 22
    },
    {
     "cell_type": "code",
     "collapsed": false,
     "input": [
      "def train_and_measure(classifier, x, y, tsize=0.25, rstate=1234):\n",
      "    from sklearn import cross_validation\n",
      "    \"\"\"\n",
      "    Function accepts a classifer from sklearn and computes the accuracy measure for a random train and test split\n",
      "    classifier: an sklearn class\n",
      "    x         : a matrix of features\n",
      "    y         : a vector of targets\n",
      "    tsize     : the test size as a percent of the data (optional, default is 25%)\n",
      "    rstate    : the random number seed (optional, default is 1234)\n",
      "    \"\"\"\n",
      "    xtrain, xtest, ytrain, ytest = cross_validation.train_test_split(x, y, test_size=tsize, random_state=rstate)\n",
      "    clf = classifier.fit(xtrain, ytrain)\n",
      "\n",
      "    #Print the accuracy on the test and training dataset\n",
      "    training_accuracy = clf.score(xtrain, ytrain)\n",
      "    test_accuracy = clf.score(xtest, ytest)\n",
      "    print classifier\n",
      "    print \"Accuracy on training data: %0.2f\" % (training_accuracy)\n",
      "    print \"Accuracy on test data:     %0.2f\" % (test_accuracy)"
     ],
     "language": "python",
     "metadata": {},
     "outputs": [],
     "prompt_number": 21
    },
    {
     "cell_type": "code",
     "collapsed": false,
     "input": [
      "for i in range(1, 5):\n",
      "    print \"===============\"\n",
      "    print \"ALPHA = %f\" % (10**-i)\n",
      "    train_and_measure(naive_bayes.BernoulliNB(alpha=(10**-i)), (x1 > 1), y, 0.4)\n",
      "    train_and_measure(naive_bayes.BernoulliNB(alpha=(10**-i)), (x2 > 1), y, 0.4)\n",
      "    train_and_measure(naive_bayes.BernoulliNB(alpha=(10**-i)), (x3 > 1), y, 0.4)\n",
      "    print \"===============\"\n"
     ],
     "language": "python",
     "metadata": {},
     "outputs": [
      {
       "output_type": "stream",
       "stream": "stdout",
       "text": [
        "===============\n",
        "ALPHA = 0.100000\n",
        "BernoulliNB(alpha=0.1, binarize=0.0, class_prior=None, fit_prior=True)\n",
        "Accuracy on training data: 0.65\n",
        "Accuracy on test data:     0.61\n",
        "BernoulliNB(alpha=0.1, binarize=0.0, class_prior=None, fit_prior=True)"
       ]
      },
      {
       "output_type": "stream",
       "stream": "stdout",
       "text": [
        "\n",
        "Accuracy on training data: 0.64\n",
        "Accuracy on test data:     0.61\n",
        "BernoulliNB(alpha=0.1, binarize=0.0, class_prior=None, fit_prior=True)"
       ]
      },
      {
       "output_type": "stream",
       "stream": "stdout",
       "text": [
        "\n",
        "Accuracy on training data: 0.63\n",
        "Accuracy on test data:     0.61\n",
        "===============\n",
        "===============\n",
        "ALPHA = 0.010000\n",
        "BernoulliNB(alpha=0.01, binarize=0.0, class_prior=None, fit_prior=True)\n",
        "Accuracy on training data: 0.65\n",
        "Accuracy on test data:     0.61\n",
        "BernoulliNB(alpha=0.01, binarize=0.0, class_prior=None, fit_prior=True)"
       ]
      },
      {
       "output_type": "stream",
       "stream": "stdout",
       "text": [
        "\n",
        "Accuracy on training data: 0.65\n",
        "Accuracy on test data:     0.61\n",
        "BernoulliNB(alpha=0.01, binarize=0.0, class_prior=None, fit_prior=True)"
       ]
      },
      {
       "output_type": "stream",
       "stream": "stdout",
       "text": [
        "\n",
        "Accuracy on training data: 0.65\n",
        "Accuracy on test data:     0.61\n",
        "===============\n",
        "===============\n",
        "ALPHA = 0.001000\n",
        "BernoulliNB(alpha=0.001, binarize=0.0, class_prior=None, fit_prior=True)\n",
        "Accuracy on training data: 0.65\n",
        "Accuracy on test data:     0.61\n",
        "BernoulliNB(alpha=0.001, binarize=0.0, class_prior=None, fit_prior=True)"
       ]
      },
      {
       "output_type": "stream",
       "stream": "stdout",
       "text": [
        "\n",
        "Accuracy on training data: 0.66\n",
        "Accuracy on test data:     0.61\n",
        "BernoulliNB(alpha=0.001, binarize=0.0, class_prior=None, fit_prior=True)"
       ]
      },
      {
       "output_type": "stream",
       "stream": "stdout",
       "text": [
        "\n",
        "Accuracy on training data: 0.66\n",
        "Accuracy on test data:     0.61\n",
        "===============\n",
        "===============\n",
        "ALPHA = 0.000100\n",
        "BernoulliNB(alpha=0.0001, binarize=0.0, class_prior=None, fit_prior=True)\n",
        "Accuracy on training data: 0.65\n",
        "Accuracy on test data:     0.61\n",
        "BernoulliNB(alpha=0.0001, binarize=0.0, class_prior=None, fit_prior=True)"
       ]
      },
      {
       "output_type": "stream",
       "stream": "stdout",
       "text": [
        "\n",
        "Accuracy on training data: 0.66\n",
        "Accuracy on test data:     0.61\n",
        "BernoulliNB(alpha=0.0001, binarize=0.0, class_prior=None, fit_prior=True)"
       ]
      },
      {
       "output_type": "stream",
       "stream": "stdout",
       "text": [
        "\n",
        "Accuracy on training data: 0.66\n",
        "Accuracy on test data:     0.61\n",
        "===============\n"
       ]
      }
     ],
     "prompt_number": 30
    },
    {
     "cell_type": "code",
     "collapsed": false,
     "input": [],
     "language": "python",
     "metadata": {},
     "outputs": []
    }
   ],
   "metadata": {}
  }
 ]
}