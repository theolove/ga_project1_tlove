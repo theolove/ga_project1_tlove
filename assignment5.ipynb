{
 "metadata": {
  "name": "",
  "signature": "sha256:fb01ea56ae9c96dc7f77d6f9682f6d015ae5ad113311ebf65a8b08c213ff4468"
 },
 "nbformat": 3,
 "nbformat_minor": 0,
 "worksheets": [
  {
   "cells": [
    {
     "cell_type": "code",
     "collapsed": false,
     "input": [
      "%pylab inline\n",
      "from __future__ import division\n",
      "import pandas as pd\n",
      "import seaborn as sns\n",
      "from sklearn import naive_bayes, cross_validation, linear_model\n",
      "from sklearn.feature_extraction.text import CountVectorizer\n",
      "from sklearn.metrics import confusion_matrix"
     ],
     "language": "python",
     "metadata": {},
     "outputs": [
      {
       "output_type": "stream",
       "stream": "stdout",
       "text": [
        "Populating the interactive namespace from numpy and matplotlib\n"
       ]
      }
     ],
     "prompt_number": 51
    },
    {
     "cell_type": "code",
     "collapsed": false,
     "input": [
      "# read in the data and get the length of the quotes\n",
      "critics = pd.read_csv('../DAT18NYC/data/rt_critics.csv')\n",
      "critics['quote_len'] = critics.quote.apply(lambda x: len(x))\n",
      "\n",
      "# print some pertinent data\n",
      "print \"Unique movies: %i\" % len(critics.title.unique())\n",
      "print \"Unique critics: %i\" % len(critics.critic.unique())\n",
      "print \"Fresh\\\\Rotten: %i\\\\%i\" % (len(critics[critics.fresh == 'fresh']), len(critics[critics.fresh == 'rotten']))\n",
      "print\n",
      "print \"Description of quote lengths\"\n",
      "print \"============================\"\n",
      "print critics.quote_len.describe()\n",
      "print \n",
      "print \"Columns\"\n",
      "print \"=======\"\n",
      "print critics.columns"
     ],
     "language": "python",
     "metadata": {},
     "outputs": [
      {
       "output_type": "stream",
       "stream": "stdout",
       "text": [
        "Unique movies: 1736\n",
        "Unique critics: 622\n",
        "Fresh\\Rotten: 8613\\5436\n",
        "\n",
        "Description of quote lengths\n",
        "============================\n",
        "count    14072.000000\n",
        "mean       118.204946\n",
        "std         57.757129\n",
        "min          4.000000\n",
        "25%         73.000000\n",
        "50%        115.000000\n",
        "75%        160.000000\n",
        "max        256.000000\n",
        "Name: quote_len, dtype: float64\n",
        "\n",
        "Columns\n",
        "=======\n",
        "Index([u'critic', u'fresh', u'imdb', u'publication', u'quote', u'review_date', u'rtid', u'title', u'quote_len'], dtype='object')\n"
       ]
      }
     ],
     "prompt_number": 2
    },
    {
     "cell_type": "code",
     "collapsed": false,
     "input": [
      "# define the y as the fresh column with a 1 or 0\n",
      "y = (critics.fresh == 'fresh').values.astype(int)\n",
      "\n",
      "# make a vectorizers for ngrams of 1, 1 to 2, and 1 to 3\n",
      "vzr_1 = CountVectorizer(ngram_range=(1,1))\n",
      "vzr_2 = CountVectorizer(ngram_range=(1,2))\n",
      "vzr_3 = CountVectorizer(ngram_range=(1,3))\n",
      "x1 = vzr_1.fit_transform(critics.quote)\n",
      "x2 = vzr_2.fit_transform(critics.quote)\n",
      "x3 = vzr_3.fit_transform(critics.quote)\n"
     ],
     "language": "python",
     "metadata": {},
     "outputs": [],
     "prompt_number": 3
    },
    {
     "cell_type": "code",
     "collapsed": false,
     "input": [
      "def train_and_measure(classifier, x, y, tsize=0.25, rstate=1234):\n",
      "    \"\"\"\n",
      "    Function accepts a classifer from sklearn and computes the accuracy measure for a random train and test split\n",
      "    and returns a tuple of (train accuracy, test accuracy)\n",
      "    classifier: an sklearn class\n",
      "    x         : a matrix of features\n",
      "    y         : a vector of targets\n",
      "    tsize     : the test size as a percent of the data (optional, default is 25%)\n",
      "    rstate    : the random number seed (optional, default is 1234)\n",
      "    \"\"\"\n",
      "    xtrain, xtest, ytrain, ytest = cross_validation.train_test_split(x, y, test_size=tsize, random_state=rstate)\n",
      "    clf = classifier.fit(xtrain, ytrain)\n",
      "\n",
      "    #Print the accuracy on the test and training dataset\n",
      "    training_accuracy = clf.score(xtrain, ytrain)\n",
      "    test_accuracy = clf.score(xtest, ytest)\n",
      "    print classifier\n",
      "    print \"Accuracy on training data: %0.4f\" % (training_accuracy)\n",
      "    print \"Accuracy on test data:     %0.4f\" % (test_accuracy)\n",
      "    return (training_accuracy, test_accuracy)\n",
      "\n",
      "def test_alphas_NB(x, y, tsize=0.25, rstate=1234, alphas=[1], multi=True):\n",
      "    \"\"\"\n",
      "    Return a dataframe of train/test scores for naive-bayes models at each alpha in a list.\n",
      "    x         : a matrix of features\n",
      "    y         : a vector of targets\n",
      "    tsize     : the test size as a percent of the data (optional, default is 25%)\n",
      "    rstate    : the random number seed (optional, default is 1234)\n",
      "    alphas    : the list of alphas to test (optional, default is 1)\n",
      "    multi     : true for a Multinomial Naive-Bayes, false for Bernoulli (optional, default is True)\n",
      "    \"\"\"\n",
      "    trains = []\n",
      "    tests = []\n",
      "    for a in alphas:\n",
      "        print \"ALPHA = %f\" % a\n",
      "        if multi:\n",
      "            clf = naive_bayes.MultinomialNB(alpha=a)\n",
      "        else:\n",
      "            clf = naive_bayes.BernoulliNB(alpha=a)\n",
      "        r = train_and_measure(clf, x, y, tsize, rstate)\n",
      "        trains.append(r[0])\n",
      "        tests.append(r[1])\n",
      "        print\n",
      "\n",
      "    return pd.DataFrame({'alpha': alphas,\n",
      "                         'train_score': trains,\n",
      "                         'test_score': tests})\n",
      "\n",
      "def k_cross(classifier, x, y, nfolds=2, rstate=1234):\n",
      "    \"\"\"\n",
      "    Function that takes a classifier from sklearn and returns a tuple of the (mean, std dev) for a k-fold train/test\n",
      "    split on a dependent y vector and independent matrix x.\n",
      "    classifier: an sklearn class\n",
      "    x         : a matrix of independent variables\n",
      "    y         : a vector for the dependent variable\n",
      "    nfolds    : the number of folds in the k-fold test (optional, default is 2)\n",
      "    rstate    : the seed for the random number generator in the k-fold shuffler (optional, default is 1234)\n",
      "    \"\"\"\n",
      "    kfold = cross_validation.KFold(n=x.shape[0], n_folds=nfolds, shuffle=True, random_state=rstate)\n",
      "    train_acc = []\n",
      "    test_acc = []\n",
      "    \n",
      "    for train_index, test_index in kfold:\n",
      "        clf = classifier.fit(x[train_index], y[train_index])\n",
      "        train_acc.append(clf.score(x[train_index], y[train_index]))\n",
      "        test_acc.append(clf.score(x[test_index], y[test_index]))\n",
      "\n",
      "    return (np.array(test_acc).mean(), np.array(test_acc).std())\n"
     ],
     "language": "python",
     "metadata": {},
     "outputs": [],
     "prompt_number": 42
    },
    {
     "cell_type": "code",
     "collapsed": false,
     "input": [
      "s1 = test_alphas_NB((x1 > 1), y, 0.4, 2345, [10**-i for i in range(0,5)], False)\n",
      "s2 = test_alphas_NB((x2 > 1), y, 0.4, 2345, [10**-i for i in range(0,5)], False)\n",
      "s3 = test_alphas_NB((x3 > 1), y, 0.4, 2345, [10**-i for i in range(0,5)], False)\n",
      "\n",
      "print s1\n",
      "print s2\n",
      "print s3"
     ],
     "language": "python",
     "metadata": {},
     "outputs": [
      {
       "output_type": "stream",
       "stream": "stdout",
       "text": [
        "ALPHA = 1.000000\n",
        "BernoulliNB(alpha=1, binarize=0.0, class_prior=None, fit_prior=True)\n",
        "Accuracy on training data: 0.6151\n",
        "Accuracy on test data:     0.6104\n",
        "\n",
        "ALPHA = 0.100000\n",
        "BernoulliNB(alpha=0.1, binarize=0.0, class_prior=None, fit_prior=True)\n",
        "Accuracy on training data: 0.6467\n",
        "Accuracy on test data:     0.6108\n",
        "\n",
        "ALPHA = 0.010000\n",
        "BernoulliNB(alpha=0.01, binarize=0.0, class_prior=None, fit_prior=True)\n",
        "Accuracy on training data: 0.6483\n",
        "Accuracy on test data:     0.6111\n",
        "\n",
        "ALPHA = 0.001000\n",
        "BernoulliNB(alpha=0.001, binarize=0.0, class_prior=None, fit_prior=True)"
       ]
      },
      {
       "output_type": "stream",
       "stream": "stdout",
       "text": [
        "\n",
        "Accuracy on training data: 0.6494\n",
        "Accuracy on test data:     0.6104\n",
        "\n",
        "ALPHA = 0.000100\n",
        "BernoulliNB(alpha=0.0001, binarize=0.0, class_prior=None, fit_prior=True)\n",
        "Accuracy on training data: 0.6495\n",
        "Accuracy on test data:     0.6104\n",
        "\n",
        "ALPHA = 1.000000\n",
        "BernoulliNB(alpha=1, binarize=0.0, class_prior=None, fit_prior=True)"
       ]
      },
      {
       "output_type": "stream",
       "stream": "stdout",
       "text": [
        "\n",
        "Accuracy on training data: 0.6134\n",
        "Accuracy on test data:     0.6101\n",
        "\n",
        "ALPHA = 0.100000\n",
        "BernoulliNB(alpha=0.1, binarize=0.0, class_prior=None, fit_prior=True)\n",
        "Accuracy on training data: 0.6433\n",
        "Accuracy on test data:     0.6090\n",
        "\n",
        "ALPHA = 0.010000\n",
        "BernoulliNB(alpha=0.01, binarize=0.0, class_prior=None, fit_prior=True)"
       ]
      },
      {
       "output_type": "stream",
       "stream": "stdout",
       "text": [
        "\n",
        "Accuracy on training data: 0.6538\n",
        "Accuracy on test data:     0.6093\n",
        "\n",
        "ALPHA = 0.001000\n",
        "BernoulliNB(alpha=0.001, binarize=0.0, class_prior=None, fit_prior=True)\n",
        "Accuracy on training data: 0.6547\n",
        "Accuracy on test data:     0.6083\n",
        "\n",
        "ALPHA = 0.000100\n",
        "BernoulliNB(alpha=0.0001, binarize=0.0, class_prior=None, fit_prior=True)"
       ]
      },
      {
       "output_type": "stream",
       "stream": "stdout",
       "text": [
        "\n",
        "Accuracy on training data: 0.6540\n",
        "Accuracy on test data:     0.6093\n",
        "\n",
        "ALPHA = 1.000000\n",
        "BernoulliNB(alpha=1, binarize=0.0, class_prior=None, fit_prior=True)"
       ]
      },
      {
       "output_type": "stream",
       "stream": "stdout",
       "text": [
        "\n",
        "Accuracy on training data: 0.6134\n",
        "Accuracy on test data:     0.6101\n",
        "\n",
        "ALPHA = 0.100000\n",
        "BernoulliNB(alpha=0.1, binarize=0.0, class_prior=None, fit_prior=True)"
       ]
      },
      {
       "output_type": "stream",
       "stream": "stdout",
       "text": [
        "\n",
        "Accuracy on training data: 0.6241\n",
        "Accuracy on test data:     0.6093\n",
        "\n",
        "ALPHA = 0.010000\n",
        "BernoulliNB(alpha=0.01, binarize=0.0, class_prior=None, fit_prior=True)"
       ]
      },
      {
       "output_type": "stream",
       "stream": "stdout",
       "text": [
        "\n",
        "Accuracy on training data: 0.6523\n",
        "Accuracy on test data:     0.6108\n",
        "\n",
        "ALPHA = 0.001000\n",
        "BernoulliNB(alpha=0.001, binarize=0.0, class_prior=None, fit_prior=True)"
       ]
      },
      {
       "output_type": "stream",
       "stream": "stdout",
       "text": [
        "\n",
        "Accuracy on training data: 0.6549\n",
        "Accuracy on test data:     0.6097\n",
        "\n",
        "ALPHA = 0.000100\n",
        "BernoulliNB(alpha=0.0001, binarize=0.0, class_prior=None, fit_prior=True)"
       ]
      },
      {
       "output_type": "stream",
       "stream": "stdout",
       "text": [
        "\n",
        "Accuracy on training data: 0.6540\n",
        "Accuracy on test data:     0.6101\n",
        "\n",
        "    alpha  test_score  train_score\n",
        "0  1.0000    0.610410     0.615066\n",
        "1  0.1000    0.610766     0.646690\n",
        "2  0.0100    0.611121     0.648348\n",
        "3  0.0010    0.610410     0.649414\n",
        "4  0.0001    0.610410     0.649532\n",
        "    alpha  test_score  train_score\n",
        "0  1.0000    0.610055     0.613408\n",
        "1  0.1000    0.608989     0.643255\n",
        "2  0.0100    0.609344     0.653796\n",
        "3  0.0010    0.608279     0.654744\n",
        "4  0.0001    0.609344     0.654033\n",
        "    alpha  test_score  train_score\n",
        "0  1.0000    0.610055     0.613408\n",
        "1  0.1000    0.609344     0.624067\n",
        "2  0.0100    0.610766     0.652256\n",
        "3  0.0010    0.609700     0.654862\n",
        "4  0.0001    0.610055     0.654033\n"
       ]
      }
     ],
     "prompt_number": 43
    },
    {
     "cell_type": "code",
     "collapsed": false,
     "input": [
      "train_and_measure(linear_model.LogisticRegression(), x1, y, 0.6, 2345)\n",
      "train_and_measure(linear_model.LogisticRegression(), x2, y, 0.6, 2345)\n",
      "train_and_measure(linear_model.LogisticRegression(), x3, y, 0.6, 2345)"
     ],
     "language": "python",
     "metadata": {},
     "outputs": [
      {
       "output_type": "stream",
       "stream": "stdout",
       "text": [
        "LogisticRegression(C=1.0, class_weight=None, dual=False, fit_intercept=True,\n",
        "          intercept_scaling=1, penalty='l2', random_state=None, tol=0.0001)\n",
        "Accuracy on training data: 0.9726\n",
        "Accuracy on test data:     0.7605\n",
        "LogisticRegression(C=1.0, class_weight=None, dual=False, fit_intercept=True,\n",
        "          intercept_scaling=1, penalty='l2', random_state=None, tol=0.0001)"
       ]
      },
      {
       "output_type": "stream",
       "stream": "stdout",
       "text": [
        "\n",
        "Accuracy on training data: 0.9996\n",
        "Accuracy on test data:     0.7641\n",
        "LogisticRegression(C=1.0, class_weight=None, dual=False, fit_intercept=True,\n",
        "          intercept_scaling=1, penalty='l2', random_state=None, tol=0.0001)"
       ]
      },
      {
       "output_type": "stream",
       "stream": "stdout",
       "text": [
        "\n",
        "Accuracy on training data: 0.9998\n",
        "Accuracy on test data:     0.7545\n"
       ]
      },
      {
       "metadata": {},
       "output_type": "pyout",
       "prompt_number": 17,
       "text": [
        "(0.99976311737534052, 0.75448569905844731)"
       ]
      }
     ],
     "prompt_number": 17
    },
    {
     "cell_type": "code",
     "collapsed": false,
     "input": [
      "train_and_measure(linear_model.LogisticRegression(), x1, y, 0.6, 2345)\n",
      "train_and_measure(linear_model.LogisticRegression(), x2, y, 0.6, 2345)\n",
      "train_and_measure(linear_model.LogisticRegression(), x3, y, 0.6, 2345)"
     ],
     "language": "python",
     "metadata": {},
     "outputs": [
      {
       "output_type": "stream",
       "stream": "stdout",
       "text": [
        "LogisticRegression(C=1.0, class_weight=None, dual=False, fit_intercept=True,\n",
        "          intercept_scaling=1, penalty='l2', random_state=None, tol=0.0001)\n",
        "Accuracy on training data: 0.9822\n",
        "Accuracy on test data:     0.7469\n",
        "LogisticRegression(C=1.0, class_weight=None, dual=False, fit_intercept=True,\n",
        "          intercept_scaling=1, penalty='l2', random_state=None, tol=0.0001)"
       ]
      },
      {
       "output_type": "stream",
       "stream": "stdout",
       "text": [
        "\n",
        "Accuracy on training data: 0.9995\n",
        "Accuracy on test data:     0.7457\n",
        "LogisticRegression(C=1.0, class_weight=None, dual=False, fit_intercept=True,\n",
        "          intercept_scaling=1, penalty='l2', random_state=None, tol=0.0001)"
       ]
      },
      {
       "output_type": "stream",
       "stream": "stdout",
       "text": [
        "\n",
        "Accuracy on training data: 0.9996\n",
        "Accuracy on test data:     0.7370\n"
       ]
      },
      {
       "metadata": {},
       "output_type": "pyout",
       "prompt_number": 18,
       "text": [
        "(0.99964463397299219, 0.73697299857887255)"
       ]
      }
     ],
     "prompt_number": 18
    },
    {
     "cell_type": "code",
     "collapsed": false,
     "input": [
      "cls = naive_bayes.BernoulliNB(alpha=0.01)\n",
      "\n",
      "k1 = k_cross(cls, (x1 > 1), y, 4)\n",
      "k2 = k_cross(cls, (x2 > 1), y, 4)\n",
      "k3 = k_cross(cls, (x3 > 1), y, 4)\n",
      "\n",
      "print k1\n",
      "print k2\n",
      "print k3\n",
      "\n",
      "plt.figure(figsize=(10,5))\n",
      "plt.subplot(111) \n",
      "sns.kdeplot(np.random.normal(loc=k1[0], scale=k1[1], size=10000), shade=True)\n",
      "plt.subplot(121)\n",
      "sns.kdeplot(np.random.normal(loc=k1[0], scale=k1[1], size=10000), shade=True)\n"
     ],
     "language": "python",
     "metadata": {},
     "outputs": [
      {
       "output_type": "stream",
       "stream": "stdout",
       "text": [
        "(0.61178226264923241, 0.0051495014253815814)\n",
        "(0.61192438885730538, 0.0062515339910423767)\n",
        "(0.61149801023308692, 0.007270349447831107)\n"
       ]
      },
      {
       "metadata": {},
       "output_type": "pyout",
       "prompt_number": 54,
       "text": [
        "<matplotlib.axes._subplots.AxesSubplot at 0x10c131e90>"
       ]
      },
      {
       "metadata": {},
       "output_type": "display_data",
       "png": "[encoded data removed]",
       "text": [
        "<matplotlib.figure.Figure at 0x10fc3de50>"
       ]
      }
     ],
     "prompt_number": 54
    },
    {
     "cell_type": "code",
     "collapsed": false,
     "input": [
      "print k1\n",
      "print k2\n",
      "print k3"
     ],
     "language": "python",
     "metadata": {},
     "outputs": [
      {
       "output_type": "stream",
       "stream": "stdout",
       "text": [
        "(0.60950824332006825, 0.0037663445139283769)\n",
        "(0.60837123365548607, 0.0036242183058555755)\n",
        "(0.61156907333712329, 0.0025582717453098147)\n"
       ]
      }
     ],
     "prompt_number": 46
    },
    {
     "cell_type": "code",
     "collapsed": false,
     "input": [],
     "language": "python",
     "metadata": {},
     "outputs": []
    }
   ],
   "metadata": {}
  }
 ]
}