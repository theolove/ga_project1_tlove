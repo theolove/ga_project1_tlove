{
 "metadata": {
  "name": "",
  "signature": "sha256:263d46ba14f17f38e6ab965e0dc12430e7107a0c656fa229648895af9cf8af02"
 },
 "nbformat": 3,
 "nbformat_minor": 0,
 "worksheets": []
}