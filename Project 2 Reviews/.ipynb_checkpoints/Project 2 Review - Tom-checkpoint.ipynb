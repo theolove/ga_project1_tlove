{
 "cells": [
  {
   "cell_type": "markdown",
   "metadata": {},
   "source": [
    "#Project Review of Tom Barnes NFL Data Analysis\n",
    "*Author: Theo Love*\n",
    "\n",
    "### Strengths\n",
    "* Good job walking through the data clean up and additional variable generation including the transformations.\n",
    "* Good exploration of the decision trees in both models and excellent optimization.\n",
    "* Always good to have sanity checks that show an understanding of the underlying data.\n",
    "\n",
    "### Comments/Questions\n",
    "* It's a bit tough to see what each of the columns mean\n",
    "* Glad to see comparisons against dummies and that you get a decent\n",
    "* The graphviz trees did not show up in my notebook viewer\n",
    "* I woudn't worry about NaNs either, considering they are 1/10th of 1% of your observations\n",
    "* For your second model is MSE the best option to optimize on?\n",
    "* It makes sense that it would be easier to guess who wins the game, than it is to get the score from a drive.\n",
    "\n",
    "### Suggestions\n",
    "* Changing variables names to something more readable would be helpful\n",
    "* It would be interesting to see how the bookmakers ratings did vs just Elo or win/loss ratios\n",
    "* Perhaps bringing in more team or player specific data and not just game data might help your score prediction model."
   ]
  },
  {
   "cell_type": "code",
   "execution_count": null,
   "metadata": {
    "collapsed": true
   },
   "outputs": [],
   "source": []
  }
 ],
 "metadata": {
  "kernelspec": {
   "display_name": "Python 2",
   "language": "python",
   "name": "python2"
  },
  "language_info": {
   "codemirror_mode": {
    "name": "ipython",
    "version": 2
   },
   "file_extension": ".py",
   "mimetype": "text/x-python",
   "name": "python",
   "nbconvert_exporter": "python",
   "pygments_lexer": "ipython2",
   "version": "2.7.9"
  }
 },
 "nbformat": 4,
 "nbformat_minor": 0
}
