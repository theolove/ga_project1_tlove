{
 "cells": [
  {
   "cell_type": "markdown",
   "metadata": {},
   "source": [
    "#Project Review of Ikkei's Beer Advocate Data Analysis\n",
    "*Author: Theo Love*\n",
    "\n",
    "### Strengths\n",
    "* Nice graph on review count vs. overall review and brewer beer count vs. review overall\n",
    "* Good job on the text analysis, which is really tough. You were able to bring some insights, and even get some predictive power!\n",
    "* The recommendation engine is really neat. I would like to try it myself.\n",
    "\n",
    "### Comments/Questions\n",
    "* I am surprised by the number of reviewers with more than 100 reviews!\n",
    "* Perhaps some of the smaller languages had similar stopwords.\n",
    "* Cool to see the most important words, and they all make sense. Any way to get coefficients for them (i.e. is it a negative or positive effect on review ovearall)?\n",
    "* I bet you could figure out how to do the kfold cross validation!\n",
    "* How is the manhattan distance going to be better/worse than the euclidian distance in your recommendation algo?\n",
    "\n",
    "### Suggestions\n",
    "* Add some more comments to your code and explanations of graphs as well as your recommendation engine (the text analysis comments weren't bad)\n",
    "* Perhaps do some regression analysis to test your hypothesis regarding the various groupings in the first part of the project\n",
    "* Improvements could be made to your selection of the beers for your text analysis, like selecting random subsets instead of just the head.\n",
    "* You might have overoptimized your decisiontree with max depth of 7. Perhaps use some other ways to limit the tree like splits and leaf size.\n",
    "* You may want to include alcohol percentage in your recommendation engine\n",
    "* Also it would be interesting to see recommendations for within a style or outside a style of beer.\n"
   ]
  },
  {
   "cell_type": "code",
   "execution_count": null,
   "metadata": {
    "collapsed": true
   },
   "outputs": [],
   "source": []
  }
 ],
 "metadata": {
  "kernelspec": {
   "display_name": "Python 2",
   "language": "python",
   "name": "python2"
  },
  "language_info": {
   "codemirror_mode": {
    "name": "ipython",
    "version": 2
   },
   "file_extension": ".py",
   "mimetype": "text/x-python",
   "name": "python",
   "nbconvert_exporter": "python",
   "pygments_lexer": "ipython2",
   "version": "2.7.9"
  }
 },
 "nbformat": 4,
 "nbformat_minor": 0
}
