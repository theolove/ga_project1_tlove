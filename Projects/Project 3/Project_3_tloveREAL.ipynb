{
 "cells": [
  {
   "cell_type": "code",
   "execution_count": 1,
   "metadata": {
    "collapsed": false
   },
   "outputs": [
    {
     "name": "stdout",
     "output_type": "stream",
     "text": [
      "Populating the interactive namespace from numpy and matplotlib\n"
     ]
    }
   ],
   "source": [
    "%pylab inline\n",
    "import pandas as pd\n",
    "import seaborn as sns\n",
    "from __future__ import division\n",
    "import datetime\n",
    "\n",
    "# import the custom machine learning helper functions that are in a separate module in the same folder\n",
    "import mltl\n",
    "\n",
    "sns.set_style('white')"
   ]
  },
  {
   "cell_type": "markdown",
   "metadata": {},
   "source": [
    "#1. Additional Exploration of EUI Features\n",
    "\n",
    "The following code imports the dataset used in the previous projects and calls the dataframe **bd**"
   ]
  },
  {
   "cell_type": "code",
   "execution_count": 3,
   "metadata": {
    "collapsed": true
   },
   "outputs": [],
   "source": [
    "# import the merged and cleaned data set from its csv\n",
    "bd = pd.read_csv('buildings_clean.csv', low_memory=False)\n",
    "bd = bd.set_index('BBL')\n",
    "\n",
    "# set the various feature sets as well\n",
    "targets = ['EUIwn', 'EUI', 'EUIwn_norm']\n",
    "orig_class_dummies = [u'borough', u'zip', u'property_type']\n",
    "orig_class = [u'water_method']\n",
    "orig_cont = [u'water_ft2', u'energy_star', u'GHG', u'floor_area', u'no_buildings']\n",
    "pluto_class_dummies = [u'BldgClass', u'LandUse', u'OwnerType', u'AreaSource', u'Ext', u'ProxCode', \\\n",
    "                       u'IrrLotCode', u'LotType', u'BsmtCode']\n",
    "pluto_class = ['Landmarked', 'BuiltCode', 'Altered']\n",
    "pluto_cont = [u'Easements', u'LotArea', u'BldgArea', u'ComArea', u'ResArea', u'OfficeArea', \\\n",
    "              u'RetailArea', u'GarageArea', u'StrgeArea', u'FactryArea', u'OtherArea', \\\n",
    "              u'NumBldgs', u'NumFloors', u'UnitsRes', u'UnitsTotal', u'LotFront', u'LotDepth', \\\n",
    "              u'BldgFront', u'BldgDepth', u'AssessLand', u'AssessTot', u'ExemptLand', u'ExemptTot', \\\n",
    "              u'BuiltFAR', u'MaxAllwFAR', 'YearBuilt', 'YearLastWork', u'PerComArea', u'PerResArea', \\\n",
    "              u'PerOfficeArea', u'PerRetailArea', u'PerGarageArea', u'PerStrgeArea', u'PerFactryArea',\\\n",
    "              u'PerOtherArea']"
   ]
  },
  {
   "cell_type": "markdown",
   "metadata": {},
   "source": [
    "Now that we have the data imported, let us examine the various unique values for each of the dummy classifiers to see how many and what different kinds of values we get."
   ]
  },
  {
   "cell_type": "code",
   "execution_count": null,
   "metadata": {
    "collapsed": true
   },
   "outputs": [],
   "source": []
  }
 ],
 "metadata": {
  "kernelspec": {
   "display_name": "Python 2",
   "language": "python",
   "name": "python2"
  },
  "language_info": {
   "codemirror_mode": {
    "name": "ipython",
    "version": 2
   },
   "file_extension": ".py",
   "mimetype": "text/x-python",
   "name": "python",
   "nbconvert_exporter": "python",
   "pygments_lexer": "ipython2",
   "version": "2.7.9"
  }
 },
 "nbformat": 4,
 "nbformat_minor": 0
}
