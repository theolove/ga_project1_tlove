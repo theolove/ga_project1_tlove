{
 "cells": [
  {
   "cell_type": "code",
   "execution_count": 1,
   "metadata": {
    "collapsed": false
   },
   "outputs": [
    {
     "name": "stdout",
     "output_type": "stream",
     "text": [
      "Populating the interactive namespace from numpy and matplotlib\n"
     ]
    }
   ],
   "source": [
    "%pylab inline\n",
    "import pandas as pd\n",
    "import seaborn as sns\n",
    "from __future__ import division\n",
    "import datetime\n",
    "\n",
    "# import the custom machine learning helper functions that are in a separate module in the same folder\n",
    "import mltl\n",
    "\n",
    "sns.set_style('white')"
   ]
  },
  {
   "cell_type": "markdown",
   "metadata": {},
   "source": [
    "#1. Data Import and Basic Feature Selection\n",
    "\n",
    "The following code imports the dataset used in the previous projects and calls the dataframe **bd**. It also sets a number of lists for each feature set given that the full data set has many features that will not be used for our current data exploration."
   ]
  },
  {
   "cell_type": "code",
   "execution_count": 6,
   "metadata": {
    "collapsed": true
   },
   "outputs": [],
   "source": [
    "# import the merged and cleaned data set from its csv\n",
    "bd = pd.read_csv('buildings_clean.csv', low_memory=False)\n",
    "bd = bd.set_index('BBL')\n",
    "\n",
    "# set the various feature sets as well\n",
    "targets = ['EUIwn', 'EUI', 'EUIwn_norm']\n",
    "orig_class_dummies = [u'borough', u'zip', u'property_type']\n",
    "orig_class = [u'water_method']\n",
    "orig_cont = [u'water_ft2', u'energy_star', u'GHG', u'floor_area', u'no_buildings']\n",
    "pluto_class_dummies = [u'BldgClass', u'LandUse', u'OwnerType', u'AreaSource', u'Ext', u'ProxCode', \\\n",
    "                       u'IrrLotCode', u'LotType', u'BsmtCode']\n",
    "pluto_class = ['Landmarked', 'BuiltCode', 'Altered']\n",
    "pluto_cont = [u'Easements', u'LotArea', u'BldgArea', u'ComArea', u'ResArea', u'OfficeArea', \\\n",
    "              u'RetailArea', u'GarageArea', u'StrgeArea', u'FactryArea', u'OtherArea', \\\n",
    "              u'NumBldgs', u'NumFloors', u'UnitsRes', u'UnitsTotal', u'LotFront', u'LotDepth', \\\n",
    "              u'BldgFront', u'BldgDepth', u'AssessLand', u'AssessTot', u'ExemptLand', u'ExemptTot', \\\n",
    "              u'BuiltFAR', u'MaxAllwFAR', 'YearBuilt', 'YearLastWork', u'PerComArea', u'PerResArea', \\\n",
    "              u'PerOfficeArea', u'PerRetailArea', u'PerGarageArea', u'PerStrgeArea', u'PerFactryArea',\\\n",
    "              u'PerOtherArea']"
   ]
  },
  {
   "cell_type": "markdown",
   "metadata": {},
   "source": [
    "Now that we have the data imported, we want to fully explore all the possible classification variables. To do this, we make all the **pluto_class_dummy** features, which contain various classification variables, in to unique dummy variables and save the list of these new dummy variables to the **dummies** list."
   ]
  },
  {
   "cell_type": "code",
   "execution_count": 7,
   "metadata": {
    "collapsed": false
   },
   "outputs": [
    {
     "name": "stdout",
     "output_type": "stream",
     "text": [
      "Start columns and rows: (190, 9731)\n",
      "End columns and rows: (340, 9731)\n",
      "\n",
      "Possible features for regression: 188\n"
     ]
    }
   ],
   "source": [
    "print \"Start columns and rows:\", (len(bd.columns), len(bd))\n",
    "\n",
    "# join all the possible dummy variables to the building data\n",
    "dummies = pluto_class\n",
    "for col in pluto_class_dummies:\n",
    "    dm = pd.get_dummies(bd[col], prefix=col)\n",
    "    dummies = dummies + list(dm.columns)\n",
    "    bd = bd.join(dm)\n",
    "\n",
    "print \"End columns and rows:\", (len(bd.columns), len(bd))\n",
    "\n",
    "# create the main feature list for running regressions\n",
    "features = pluto_cont + dummies\n",
    "print\n",
    "print \"Possible features for regression:\", len(features)"
   ]
  },
  {
   "cell_type": "markdown",
   "metadata": {},
   "source": [
    "#2. Regression Tree Exploration\n",
    "\n",
    "The previous project explored an OLS regression based on adding one variable at a time. In order to more quickly explore the expanded feature set of 188 continuous and dummy variables, we will use a regression tree.\n",
    "\n",
    "Our initial exploration is more interested in what variables are the most important, ranking the features using the normalized Gini importance. The decision tree is not optimized, as this is only being used as a quick way to see what the regression tree ranks as important."
   ]
  },
  {
   "cell_type": "code",
   "execution_count": 8,
   "metadata": {
    "collapsed": false
   },
   "outputs": [
    {
     "data": {
      "text/html": [
       "<div style=\"max-height:1000px;max-width:1500px;overflow:auto;\">\n",
       "<table border=\"1\" class=\"dataframe\">\n",
       "  <thead>\n",
       "    <tr style=\"text-align: right;\">\n",
       "      <th></th>\n",
       "      <th>features</th>\n",
       "      <th>importance</th>\n",
       "    </tr>\n",
       "  </thead>\n",
       "  <tbody>\n",
       "    <tr>\n",
       "      <th>147</th>\n",
       "      <td>    LandUse_05</td>\n",
       "      <td> 0.129002</td>\n",
       "    </tr>\n",
       "    <tr>\n",
       "      <th>77 </th>\n",
       "      <td>  BldgClass_I1</td>\n",
       "      <td> 0.080447</td>\n",
       "    </tr>\n",
       "    <tr>\n",
       "      <th>25 </th>\n",
       "      <td>     YearBuilt</td>\n",
       "      <td> 0.065531</td>\n",
       "    </tr>\n",
       "    <tr>\n",
       "      <th>19 </th>\n",
       "      <td>    AssessLand</td>\n",
       "      <td> 0.045406</td>\n",
       "    </tr>\n",
       "    <tr>\n",
       "      <th>20 </th>\n",
       "      <td>     AssessTot</td>\n",
       "      <td> 0.044910</td>\n",
       "    </tr>\n",
       "    <tr>\n",
       "      <th>26 </th>\n",
       "      <td>  YearLastWork</td>\n",
       "      <td> 0.036374</td>\n",
       "    </tr>\n",
       "    <tr>\n",
       "      <th>150</th>\n",
       "      <td>    LandUse_08</td>\n",
       "      <td> 0.036264</td>\n",
       "    </tr>\n",
       "    <tr>\n",
       "      <th>15 </th>\n",
       "      <td>      LotFront</td>\n",
       "      <td> 0.030674</td>\n",
       "    </tr>\n",
       "    <tr>\n",
       "      <th>3  </th>\n",
       "      <td>       ComArea</td>\n",
       "      <td> 0.030427</td>\n",
       "    </tr>\n",
       "    <tr>\n",
       "      <th>1  </th>\n",
       "      <td>       LotArea</td>\n",
       "      <td> 0.029750</td>\n",
       "    </tr>\n",
       "    <tr>\n",
       "      <th>17 </th>\n",
       "      <td>     BldgFront</td>\n",
       "      <td> 0.027982</td>\n",
       "    </tr>\n",
       "    <tr>\n",
       "      <th>18 </th>\n",
       "      <td>     BldgDepth</td>\n",
       "      <td> 0.026853</td>\n",
       "    </tr>\n",
       "    <tr>\n",
       "      <th>23 </th>\n",
       "      <td>      BuiltFAR</td>\n",
       "      <td> 0.026318</td>\n",
       "    </tr>\n",
       "    <tr>\n",
       "      <th>12 </th>\n",
       "      <td>     NumFloors</td>\n",
       "      <td> 0.023656</td>\n",
       "    </tr>\n",
       "    <tr>\n",
       "      <th>16 </th>\n",
       "      <td>      LotDepth</td>\n",
       "      <td> 0.023224</td>\n",
       "    </tr>\n",
       "    <tr>\n",
       "      <th>22 </th>\n",
       "      <td>     ExemptTot</td>\n",
       "      <td> 0.022118</td>\n",
       "    </tr>\n",
       "    <tr>\n",
       "      <th>14 </th>\n",
       "      <td>    UnitsTotal</td>\n",
       "      <td> 0.021492</td>\n",
       "    </tr>\n",
       "    <tr>\n",
       "      <th>5  </th>\n",
       "      <td>    OfficeArea</td>\n",
       "      <td> 0.016359</td>\n",
       "    </tr>\n",
       "    <tr>\n",
       "      <th>30 </th>\n",
       "      <td> PerRetailArea</td>\n",
       "      <td> 0.015416</td>\n",
       "    </tr>\n",
       "    <tr>\n",
       "      <th>2  </th>\n",
       "      <td>      BldgArea</td>\n",
       "      <td> 0.014725</td>\n",
       "    </tr>\n",
       "  </tbody>\n",
       "</table>\n",
       "</div>"
      ],
      "text/plain": [
       "          features  importance\n",
       "147     LandUse_05    0.129002\n",
       "77    BldgClass_I1    0.080447\n",
       "25       YearBuilt    0.065531\n",
       "19      AssessLand    0.045406\n",
       "20       AssessTot    0.044910\n",
       "26    YearLastWork    0.036374\n",
       "150     LandUse_08    0.036264\n",
       "15        LotFront    0.030674\n",
       "3          ComArea    0.030427\n",
       "1          LotArea    0.029750\n",
       "17       BldgFront    0.027982\n",
       "18       BldgDepth    0.026853\n",
       "23        BuiltFAR    0.026318\n",
       "12       NumFloors    0.023656\n",
       "16        LotDepth    0.023224\n",
       "22       ExemptTot    0.022118\n",
       "14      UnitsTotal    0.021492\n",
       "5       OfficeArea    0.016359\n",
       "30   PerRetailArea    0.015416\n",
       "2         BldgArea    0.014725"
      ]
     },
     "execution_count": 8,
     "metadata": {},
     "output_type": "execute_result"
    }
   ],
   "source": [
    "# Import the required libraries\n",
    "from sklearn import tree, metrics, cross_validation, linear_model, feature_selection\n",
    "\n",
    "# test the new features in the regression tree\n",
    "X = bd[features]\n",
    "y = bd.EUIwn\n",
    "tr = tree.DecisionTreeRegressor()\n",
    "tr.fit(X, y)\n",
    "\n",
    "# get the feature importance and print the top 20\n",
    "feat_imp = pd.DataFrame({'features': features, \n",
    "                         'importance': tr.feature_importances_}).sort('importance', ascending=False)\n",
    "feat_imp.head(20)"
   ]
  },
  {
   "cell_type": "markdown",
   "metadata": {},
   "source": [
    "###Analysis of Important Features\n",
    "Of the top 20 features in our regression tree, most are continuous and have rather self-explanitory names. However, the features ranked number 1, 2, and 7 are new dummies with the following meanings:\n",
    "\n",
    "**1. LandUse_05:**   Commercial & Office Buildings\n",
    "\n",
    "**2. BldgClass_l1:** HOSPITALS AND HEALTH: Hospitals, Sanitariums, Mental Institutions\n",
    "\n",
    "**7. LandUse_08:**   Public Facilities & Institutions\n",
    "\n",
    "The first two most important variables confirm our initial data exploration. Commercial buldings have different EUI than residential buildings, and Hospitals are particularly high users and different than other commercial buildings. It is also interesting to see that public facilities also have different usage characteristics.\n",
    "\n",
    "The **YearBuilt** and **YearLastWork** are similar in character, as are **AssesLand** and **AssesTot**. The rest of the important features are some form of the size of the building, as well as the combination of size and building type, which relates mainly to the first two features. In general we see that the most imporant characteristics, in order are:\n",
    "\n",
    "1. Is it Commercial?\n",
    "2. Is it a Hospital?\n",
    "3. When was it built?\n",
    "4. What is the value of the building/land?\n",
    "5. How big is the building?\n",
    "\n",
    "###Comparison to OLS Regression\n",
    "It is worth doing a quick check to see how the features selected by the regression tree as important compare to the previous work we did on OLS. In general, the main categories are consistent, and as shown in the following code section, the R2 of the model approaches a similar level of 0.4 that we got with our previous project as we add more features."
   ]
  },
  {
   "cell_type": "code",
   "execution_count": 9,
   "metadata": {
    "collapsed": false
   },
   "outputs": [],
   "source": [
    "# see how r2 changes by feature importance \n",
    "fts = list(feat_imp.features)\n",
    "\n",
    "# creat a linear regression classifier\n",
    "lm = linear_model.LinearRegression()\n",
    "y = bd[['EUIwn']]\n",
    "\n",
    "# get the r2 for the regression as each feature is added in order of importance\n",
    "scores = []\n",
    "for i in range (1, len(fts)):\n",
    "    X = bd[fts[0:i]]\n",
    "    lm.fit(X,y)\n",
    "    scores.append(metrics.r2_score(y, lm.predict(X)))"
   ]
  },
  {
   "cell_type": "code",
   "execution_count": 11,
   "metadata": {
    "collapsed": false
   },
   "outputs": [
    {
     "data": {
      "image/png": "[encoded data removed]",
      "text/plain": [
       "<matplotlib.figure.Figure at 0x10d4910d0>"
      ]
     },
     "metadata": {},
     "output_type": "display_data"
    }
   ],
   "source": [
    "# print the plot\n",
    "plt.figure()\n",
    "plt.plot(scores)\n",
    "plt.xlabel(\"Feature Importance Rank\")\n",
    "plt.ylabel(\"R-squared of Linear Regression\")\n",
    "plt.show()"
   ]
  },
  {
   "cell_type": "markdown",
   "metadata": {},
   "source": [
    "###Optimization and Cross-validation"
   ]
  },
  {
   "cell_type": "code",
   "execution_count": 15,
   "metadata": {
    "collapsed": false
   },
   "outputs": [
    {
     "data": {
      "text/plain": [
       "[array([ 0.19124649,  0.27076239,  0.15973894,  0.16793583,  0.14836021]),\n",
       " array([ 0.13164995,  0.31534968,  0.16895148,  0.21777912,  0.17046403]),\n",
       " array([ 0.06172935,  0.35354978,  0.14712448,  0.24080261,  0.13764075]),\n",
       " array([-0.02065314,  0.3357193 ,  0.11471036,  0.18663095,  0.12007861]),\n",
       " array([-0.05277603,  0.28274006,  0.15526862,  0.21039474,  0.13639507]),\n",
       " array([-0.01102463,  0.30704689,  0.17373932,  0.14014959,  0.1016132 ]),\n",
       " array([-0.06512097,  0.3083924 ,  0.10830851,  0.05685983,  0.00860171]),\n",
       " array([-0.17299195,  0.3154151 ,  0.07261546,  0.0360759 ,  0.01157505]),\n",
       " array([-0.23024171,  0.32979213,  0.07390872,  0.0442756 , -0.01809151]),\n",
       " array([-0.27318263,  0.31410716,  0.04268556, -0.02657104, -0.07822019]),\n",
       " array([-0.245381  ,  0.23801109,  0.00455222, -0.03779101, -0.17058661]),\n",
       " array([-0.37684117,  0.14152828,  0.02136126, -0.07019403, -0.20891401]),\n",
       " array([-0.42447386,  0.19647335, -0.04977408, -0.06034597, -0.22868747]),\n",
       " array([-0.58589606,  0.15039994, -0.07826285, -0.08419089, -0.30108479]),\n",
       " array([-0.51679683,  0.16498952, -0.09271674, -0.260193  , -0.30494784]),\n",
       " array([-0.5910683 ,  0.06435154, -0.19057997, -0.15710577, -0.35467586]),\n",
       " array([-0.5216935 ,  0.10852869, -0.22648292, -0.07314811, -0.35554441]),\n",
       " array([-0.61344267,  0.05004892, -0.17060966, -0.11935855, -0.37913223])]"
      ]
     },
     "execution_count": 15,
     "metadata": {},
     "output_type": "execute_result"
    }
   ],
   "source": [
    "# import relevant libraries\n",
    "from sklearn import metrics, cross_validation\n",
    "\n",
    "# create the X and y\n",
    "X = bd[features]\n",
    "y = bd[['EUIwn_norm']]\n",
    "\n",
    "# output the r2 for a crossvalidation of decision tree regressors with increasing depth\n",
    "scores = []\n",
    "for i in range(2, 20):\n",
    "    tr = tree.DecisionTreeRegressor(max_depth=i, random_state=1234)\n",
    "    scores.append(cross_validation.cross_val_score(tr, X, y, cv=5, scoring='r2'))\n",
    "scores"
   ]
  },
  {
   "cell_type": "code",
   "execution_count": 18,
   "metadata": {
    "collapsed": false
   },
   "outputs": [
    {
     "data": {
      "text/plain": [
       "[array([ 0.13007943,  0.17076199,  0.23299583,  0.24453746,  0.29300065,\n",
       "         0.07644683,  0.05679453,  0.17650614,  0.09581594,  0.09355266]),\n",
       " array([ 0.16770341,  0.22244587,  0.30369726,  0.28755087,  0.31534184,\n",
       "         0.11907349,  0.12739605,  0.2456665 ,  0.1488616 ,  0.07036456]),\n",
       " array([ 0.21438478,  0.21732717,  0.35171503,  0.35625244,  0.33956486,\n",
       "         0.12946107,  0.20011312,  0.30626322,  0.17222774,  0.08571678]),\n",
       " array([ 0.18506697,  0.19024642,  0.37288102,  0.4208063 ,  0.35409851,\n",
       "         0.12520787,  0.20174833,  0.35133352,  0.16608079,  0.13950268]),\n",
       " array([ 0.23132986,  0.15453132,  0.36877195,  0.33112118,  0.27268448,\n",
       "         0.07801862,  0.21208   ,  0.33124836,  0.11798109,  0.03262195]),\n",
       " array([ 0.14791436,  0.17480828,  0.36296814,  0.38904021,  0.20058411,\n",
       "        -0.00097957,  0.01924071,  0.34729105,  0.05218093, -0.03321553]),\n",
       " array([ 0.07050942,  0.13836593,  0.29994659,  0.34407003,  0.21814548,\n",
       "         0.01840376,  0.00540518,  0.36035696, -0.03716398, -0.17178172]),\n",
       " array([ 0.09676643,  0.10693026,  0.15771801,  0.34000869,  0.1258419 ,\n",
       "         0.00366881, -0.03921826,  0.28771857, -0.08532174, -0.13558811]),\n",
       " array([-0.10168433,  0.09282598,  0.06924883,  0.39214665,  0.11038268,\n",
       "        -0.01033712, -0.30565603,  0.27512984, -0.07561135, -0.18702088]),\n",
       " array([-0.36474486,  0.00090615,  0.07936186,  0.40658079, -0.05325345,\n",
       "        -0.06631258, -0.46370287,  0.33393528, -0.04854032, -0.31234776]),\n",
       " array([-0.35022356, -0.0723188 , -0.01780815,  0.34740466, -0.099039  ,\n",
       "        -0.02632993, -0.39067935,  0.28346627, -0.06543488, -0.41194133]),\n",
       " array([-0.38615188, -0.09142469, -0.06557715,  0.30344468, -0.18201621,\n",
       "         0.03641172, -0.34672208,  0.24738589, -0.00189035, -0.41470239]),\n",
       " array([-0.37618963, -0.11230124,  0.01406864,  0.2620719 , -0.22806314,\n",
       "        -0.17616899, -0.31097276,  0.08102293, -0.1651164 , -0.40686516]),\n",
       " array([-0.53446121, -0.12581861, -0.00315779,  0.18502459, -0.31214452,\n",
       "        -0.19802652, -0.34474744,  0.22216286, -0.18423252, -0.55952331]),\n",
       " array([-0.56627633, -0.16542867, -0.10508215,  0.21282189, -0.30903953,\n",
       "        -0.01659482, -0.56066921,  0.16293844, -0.20962759, -0.49686055]),\n",
       " array([-0.61547782, -0.1758677 , -0.2059785 ,  0.24603622, -0.41363585,\n",
       "        -0.10916693, -0.57624563,  0.21296895, -0.22137467, -0.56531502]),\n",
       " array([-0.61907977, -0.19108699, -0.16254819,  0.18523629, -0.4120357 ,\n",
       "        -0.1563264 , -0.61652541,  0.07543496, -0.27066657, -0.51268612]),\n",
       " array([-0.58246346, -0.21640149, -0.2373669 ,  0.20891054, -0.4146967 ,\n",
       "        -0.12151715, -0.45296887,  0.0637525 , -0.38184304, -0.58852124])]"
      ]
     },
     "execution_count": 18,
     "metadata": {},
     "output_type": "execute_result"
    }
   ],
   "source": [
    "# create the X and y with only the top 20 features\n",
    "X = bd[list(feat_imp.head(20).features)]\n",
    "y = bd[['EUIwn_norm']]\n",
    "\n",
    "# output the r2 for a crossvalidation of decision tree regressors with increasing depth\n",
    "scores = []\n",
    "for i in range(2, 20):\n",
    "    tr = tree.DecisionTreeRegressor(max_depth=i, random_state=1234)\n",
    "    scores.append(cross_validation.cross_val_score(tr, X, y, cv=10, scoring='r2'))\n",
    "scores"
   ]
  },
  {
   "cell_type": "code",
   "execution_count": 42,
   "metadata": {
    "collapsed": false
   },
   "outputs": [
    {
     "name": "stdout",
     "output_type": "stream",
     "text": [
      "0.22308217804\n",
      "0.280766374077\n",
      "0.335789770803\n",
      "0.384225463719\n",
      "0.434295735376\n",
      "0.487375375756\n",
      "0.542520880125\n",
      "0.593899426554\n",
      "0.635120424444\n",
      "0.676808494148\n",
      "0.716477352014\n",
      "0.750354126532\n",
      "0.779152424931\n",
      "0.804808657382\n",
      "0.828499198194\n",
      "0.853806502733\n",
      "0.872726988925\n",
      "0.888328581905\n"
     ]
    }
   ],
   "source": [
    "X = bd[features]\n",
    "y = bd[['EUIwn']]\n",
    "scores = []\n",
    "for i in range(2, 20):\n",
    "    tr = tree.DecisionTreeRegressor(max_depth=i, random_state=1234)\n",
    "    tr.fit(X, y)\n",
    "    print tr.score(X, y)"
   ]
  },
  {
   "cell_type": "code",
   "execution_count": 19,
   "metadata": {
    "collapsed": false
   },
   "outputs": [
    {
     "name": "stdout",
     "output_type": "stream",
     "text": [
      "[ 0.86383314  0.12107517  0.01289474  0.00202778]\n"
     ]
    }
   ],
   "source": [
    "from sklearn import decomposition\n",
    "import re\n",
    "\n",
    "pca = decomposition.PCA(n_components=4)\n",
    "pca.fit(bd[features], y)\n",
    "print pca.explained_variance_ratio_"
   ]
  },
  {
   "cell_type": "code",
   "execution_count": 23,
   "metadata": {
    "collapsed": false
   },
   "outputs": [
    {
     "data": {
      "text/plain": [
       "<matplotlib.collections.PathCollection at 0x10e268550>"
      ]
     },
     "execution_count": 23,
     "metadata": {},
     "output_type": "execute_result"
    },
    {
     "data": {
      "image/png": "[encoded data removed]",
      "text/plain": [
       "<matplotlib.figure.Figure at 0x10c09f410>"
      ]
     },
     "metadata": {},
     "output_type": "display_data"
    }
   ],
   "source": [
    "plt.scatter(pca.components_[0],pca.components_[1])"
   ]
  },
  {
   "cell_type": "code",
   "execution_count": null,
   "metadata": {
    "collapsed": true
   },
   "outputs": [],
   "source": [
    "# lasso regression\n",
    "# Decision tree regressor\n",
    "# random forest regressor\n",
    "\n",
    "# look at reisduals more "
   ]
  },
  {
   "cell_type": "code",
   "execution_count": 44,
   "metadata": {
    "collapsed": false
   },
   "outputs": [],
   "source": [
    "y = bd[['EUIwn_norm']]"
   ]
  },
  {
   "cell_type": "code",
   "execution_count": null,
   "metadata": {
    "collapsed": true
   },
   "outputs": [],
   "source": [
    "# clustering using guassian distance based on where outliers are "
   ]
  },
  {
   "cell_type": "code",
   "execution_count": 48,
   "metadata": {
    "collapsed": true
   },
   "outputs": [],
   "source": [
    "# random forest regressors (10 as test 500 max overnight)"
   ]
  },
  {
   "cell_type": "code",
   "execution_count": null,
   "metadata": {
    "collapsed": true
   },
   "outputs": [],
   "source": [
    "# 3what doesn't matter\n"
   ]
  },
  {
   "cell_type": "code",
   "execution_count": 24,
   "metadata": {
    "collapsed": false
   },
   "outputs": [
    {
     "data": {
      "text/plain": [
       "array(['Office', 'Multifamily Housing', 'Bank/Financial Institution',\n",
       "       'Hotel', 'Retail', 'House of Worship', 'Other', 'K-12 School',\n",
       "       'Warehouse (Unrefrigerated)', 'Residence Hall/Dormitory',\n",
       "       'College/University (Campus-Level)', 'Medical Office',\n",
       "       'Senior Care Facility', 'Self-Storage', 'Lodging',\n",
       "       'Entertainment/Culture', 'Recreation', 'Library',\n",
       "       'Clinic/Other Outpatient Health', 'Warehouse (Refrigerated)',\n",
       "       'Retail (Misc)', 'Hospital (General Medical and Surgical)',\n",
       "       'Education', 'Storage/Shipping/Non-Refrigerated Warehouse',\n",
       "       'Automobile Dealership', 'Social/Meeting', 'Supermarket/Grocery',\n",
       "       'Public Assembly',\n",
       "       'Service (Vehicle Repair/Service, Postal Service)',\n",
       "       'Health Care: Outpatient', 'Mall (Strip Mall and Enclosed)',\n",
       "       \"Health Care: Inpatient (Specialty Hospitals, Excluding Children's)\",\n",
       "       nan, 'Food Sales', 'Data Center', 'Retail Store'], dtype=object)"
      ]
     },
     "execution_count": 24,
     "metadata": {},
     "output_type": "execute_result"
    }
   ],
   "source": [
    "bd.property_type.unique()"
   ]
  },
  {
   "cell_type": "code",
   "execution_count": null,
   "metadata": {
    "collapsed": true
   },
   "outputs": [],
   "source": []
  }
 ],
 "metadata": {
  "kernelspec": {
   "display_name": "Python 2",
   "language": "python",
   "name": "python2"
  },
  "language_info": {
   "codemirror_mode": {
    "name": "ipython",
    "version": 2
   },
   "file_extension": ".py",
   "mimetype": "text/x-python",
   "name": "python",
   "nbconvert_exporter": "python",
   "pygments_lexer": "ipython2",
   "version": "2.7.9"
  }
 },
 "nbformat": 4,
 "nbformat_minor": 0
}
