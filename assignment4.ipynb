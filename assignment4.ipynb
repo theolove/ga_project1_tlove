{
 "metadata": {
  "name": "",
  "signature": "sha256:3601657f2a81ca7355f11d710fc13272a6440f92a3fc29f6b726ac32c805577d"
 },
 "nbformat": 3,
 "nbformat_minor": 0,
 "worksheets": [
  {
   "cells": [
    {
     "cell_type": "markdown",
     "metadata": {},
     "source": [
      "#1. Julie - Alcohol and Cancer\n",
      "Great job, lots of information and analysis. \n",
      "* Looking at the source for the alcohol data, it appears that the methodology of collecting consumption data relies on sales and tax records. How would this change analysis? I know we discussed how New Hampshire is somewhere that people from other states go to buy alcohol. I think the same is true for DC, since it has lots of commuters who live in Virginia or Maryland.\n",
      "* Keep as much data as possible, no reason to leave out the over 21 data when making your cleaned up dataset"
     ]
    },
    {
     "cell_type": "markdown",
     "metadata": {},
     "source": [
      "#2. EK - BeerAdvocate Data\n",
      "\n",
      "This is a really interesting dataset and there are a lot of different ways to analyze it. The visualization aspect of the project was nice, and it was good to see an attempt that was more of a dead end, which is something that many people tend to leave out of a project.\n",
      "\n",
      "The main thing I would have liked to see is more of an explanation of the initial data collection process and the munging that went in to the project. It sounded from the presentation that a lot of work went in to it. The web-scraping dead-end sounded really interesting (let's see some code!). The source you gave for the current data says its not available. Where did you end up getting it, and how did you have to massage it? Were there any missing data you had to deal with?\n",
      "\n",
      "I would have liked to see more explanations for the analysis. For instance, why did you only analyze the \"top 5\" beers.  \n",
      "\n",
      "\n",
      "* It also shows that there are a few \"hits\"\n",
      "* Why was the mean> set called top5?\n",
      "* Could use some more explanatory text. \n",
      "* Would like to see some more exploration of categorical data, and beer styles in particular. \n",
      "* Good "
     ]
    },
    {
     "cell_type": "code",
     "collapsed": false,
     "input": [],
     "language": "python",
     "metadata": {},
     "outputs": []
    }
   ],
   "metadata": {}
  }
 ]
}