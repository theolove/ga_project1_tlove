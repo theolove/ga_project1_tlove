{
 "metadata": {
  "name": "",
  "signature": "sha256:1064c2380779337baf0dd053f40b8c5bc2118b31148fb0193abf92acc63e8f83"
 },
 "nbformat": 3,
 "nbformat_minor": 0,
 "worksheets": [
  {
   "cells": [
    {
     "cell_type": "code",
     "collapsed": false,
     "input": [
      "import pandas as pd\n",
      "import numpy as np\n",
      "\n",
      "ads = pd.read_csv(\"ads.csv\", skiprows=3, header=0, skipfooter=1, engine='python')"
     ],
     "language": "python",
     "metadata": {},
     "outputs": [],
     "prompt_number": 2
    },
    {
     "cell_type": "code",
     "collapsed": false,
     "input": [
      "big_ads = ads[(ads[\"ad_id\"] == 200) & (ads[\"spend\"] > 30)]\n",
      "big_ads.head()"
     ],
     "language": "python",
     "metadata": {},
     "outputs": [
      {
       "html": [
        "<div style=\"max-height:1000px;max-width:1500px;overflow:auto;\">\n",
        "<table border=\"1\" class=\"dataframe\">\n",
        "  <thead>\n",
        "    <tr style=\"text-align: right;\">\n",
        "      <th></th>\n",
        "      <th>date</th>\n",
        "      <th>ad_id</th>\n",
        "      <th>strategy_group</th>\n",
        "      <th>description</th>\n",
        "      <th>spend</th>\n",
        "      <th>spend_wfees</th>\n",
        "      <th>impressions</th>\n",
        "      <th>clicks</th>\n",
        "    </tr>\n",
        "  </thead>\n",
        "  <tbody>\n",
        "  </tbody>\n",
        "</table>\n",
        "</div>"
       ],
       "metadata": {},
       "output_type": "pyout",
       "prompt_number": 6,
       "text": [
        "Empty DataFrame\n",
        "Columns: [date, ad_id, strategy_group, description, spend, spend_wfees, impressions, clicks]\n",
        "Index: []"
       ]
      }
     ],
     "prompt_number": 6
    },
    {
     "cell_type": "code",
     "collapsed": false,
     "input": [
      "ads2 = ads[ads[\"ad_id\"] == 200]"
     ],
     "language": "python",
     "metadata": {},
     "outputs": [],
     "prompt_number": 9
    },
    {
     "cell_type": "code",
     "collapsed": false,
     "input": [
      "daily_ads = ads.pivot_table(values = 'spend',\n",
      "                            index = 'date',\n",
      "                            aggfunc = 'count')\n",
      "print daily_ads"
     ],
     "language": "python",
     "metadata": {},
     "outputs": [
      {
       "output_type": "stream",
       "stream": "stdout",
       "text": [
        "date\n",
        "2015-02-16 00:00:00    20\n",
        "2015-02-17 00:00:00    20\n",
        "2015-02-18 00:00:00    20\n",
        "2015-02-19 00:00:00    20\n",
        "2015-02-20 00:00:00    20\n",
        "2015-02-21 00:00:00    20\n",
        "2015-02-22 00:00:00    20\n",
        "Name: spend, dtype: int64\n"
       ]
      }
     ],
     "prompt_number": 22
    },
    {
     "cell_type": "code",
     "collapsed": true,
     "input": [
      "big_ads = ads[ads[\"spend\"] > 30]\n",
      "big_ads.head()"
     ],
     "language": "python",
     "metadata": {},
     "outputs": [
      {
       "html": [
        "<div style=\"max-height:1000px;max-width:1500px;overflow:auto;\">\n",
        "<table border=\"1\" class=\"dataframe\">\n",
        "  <thead>\n",
        "    <tr style=\"text-align: right;\">\n",
        "      <th></th>\n",
        "      <th>date</th>\n",
        "      <th>ad_id</th>\n",
        "      <th>strategy_group</th>\n",
        "      <th>description</th>\n",
        "      <th>spend</th>\n",
        "      <th>spend_wfees</th>\n",
        "      <th>impressions</th>\n",
        "      <th>clicks</th>\n",
        "    </tr>\n",
        "  </thead>\n",
        "  <tbody>\n",
        "    <tr>\n",
        "      <th>0</th>\n",
        "      <td> 2015-02-16 00:00:00</td>\n",
        "      <td>  7779</td>\n",
        "      <td> team_banana</td>\n",
        "      <td> Did you know there are 100s of bananas? Click ...</td>\n",
        "      <td> 903.86</td>\n",
        "      <td> 909.05</td>\n",
        "      <td> 7398</td>\n",
        "      <td> 1039</td>\n",
        "    </tr>\n",
        "    <tr>\n",
        "      <th>1</th>\n",
        "      <td> 2015-02-16 00:00:00</td>\n",
        "      <td> 10000</td>\n",
        "      <td> team_banana</td>\n",
        "      <td> Did you know there are 100s of bananas? Click ...</td>\n",
        "      <td> 904.82</td>\n",
        "      <td> 907.75</td>\n",
        "      <td> 9128</td>\n",
        "      <td> 1989</td>\n",
        "    </tr>\n",
        "    <tr>\n",
        "      <th>2</th>\n",
        "      <td> 2015-02-16 00:00:00</td>\n",
        "      <td>  9309</td>\n",
        "      <td> team_banana</td>\n",
        "      <td> Did you know there are 100s of bananas? Click ...</td>\n",
        "      <td> 196.61</td>\n",
        "      <td> 199.70</td>\n",
        "      <td> 9244</td>\n",
        "      <td> 1423</td>\n",
        "    </tr>\n",
        "    <tr>\n",
        "      <th>3</th>\n",
        "      <td> 2015-02-16 00:00:00</td>\n",
        "      <td>  4585</td>\n",
        "      <td> team_orange</td>\n",
        "      <td> Did you know there are 100s of bananas? Click ...</td>\n",
        "      <td> 703.92</td>\n",
        "      <td> 705.28</td>\n",
        "      <td> 1421</td>\n",
        "      <td>  241</td>\n",
        "    </tr>\n",
        "    <tr>\n",
        "      <th>4</th>\n",
        "      <td> 2015-02-16 00:00:00</td>\n",
        "      <td>  8923</td>\n",
        "      <td> team_banana</td>\n",
        "      <td> Did you know there are 100s of bananas? Click ...</td>\n",
        "      <td> 392.88</td>\n",
        "      <td> 400.12</td>\n",
        "      <td> 5245</td>\n",
        "      <td>  549</td>\n",
        "    </tr>\n",
        "  </tbody>\n",
        "</table>\n",
        "</div>"
       ],
       "metadata": {},
       "output_type": "pyout",
       "prompt_number": 11,
       "text": [
        "                  date  ad_id strategy_group  \\\n",
        "0  2015-02-16 00:00:00   7779    team_banana   \n",
        "1  2015-02-16 00:00:00  10000    team_banana   \n",
        "2  2015-02-16 00:00:00   9309    team_banana   \n",
        "3  2015-02-16 00:00:00   4585    team_orange   \n",
        "4  2015-02-16 00:00:00   8923    team_banana   \n",
        "\n",
        "                                         description   spend  spend_wfees  \\\n",
        "0  Did you know there are 100s of bananas? Click ...  903.86       909.05   \n",
        "1  Did you know there are 100s of bananas? Click ...  904.82       907.75   \n",
        "2  Did you know there are 100s of bananas? Click ...  196.61       199.70   \n",
        "3  Did you know there are 100s of bananas? Click ...  703.92       705.28   \n",
        "4  Did you know there are 100s of bananas? Click ...  392.88       400.12   \n",
        "\n",
        "   impressions  clicks  \n",
        "0         7398    1039  \n",
        "1         9128    1989  \n",
        "2         9244    1423  \n",
        "3         1421     241  \n",
        "4         5245     549  "
       ]
      }
     ],
     "prompt_number": 11
    },
    {
     "cell_type": "code",
     "collapsed": false,
     "input": [
      "daily_sum = ads.groupby(ads[\"date\"]).sum()"
     ],
     "language": "python",
     "metadata": {},
     "outputs": [],
     "prompt_number": 15
    },
    {
     "cell_type": "code",
     "collapsed": false,
     "input": [
      "daily_sum.head()"
     ],
     "language": "python",
     "metadata": {},
     "outputs": [
      {
       "html": [
        "<div style=\"max-height:1000px;max-width:1500px;overflow:auto;\">\n",
        "<table border=\"1\" class=\"dataframe\">\n",
        "  <thead>\n",
        "    <tr style=\"text-align: right;\">\n",
        "      <th></th>\n",
        "      <th>ad_id</th>\n",
        "      <th>spend</th>\n",
        "      <th>spend_wfees</th>\n",
        "      <th>impressions</th>\n",
        "      <th>clicks</th>\n",
        "    </tr>\n",
        "    <tr>\n",
        "      <th>date</th>\n",
        "      <th></th>\n",
        "      <th></th>\n",
        "      <th></th>\n",
        "      <th></th>\n",
        "      <th></th>\n",
        "    </tr>\n",
        "  </thead>\n",
        "  <tbody>\n",
        "    <tr>\n",
        "      <th>2015-02-16 00:00:00</th>\n",
        "      <td> 123888</td>\n",
        "      <td> 11199.81</td>\n",
        "      <td> 11282.45</td>\n",
        "      <td> 114755</td>\n",
        "      <td> 18002</td>\n",
        "    </tr>\n",
        "    <tr>\n",
        "      <th>2015-02-17 00:00:00</th>\n",
        "      <td> 123888</td>\n",
        "      <td>  9104.37</td>\n",
        "      <td>  9219.35</td>\n",
        "      <td> 125398</td>\n",
        "      <td> 12984</td>\n",
        "    </tr>\n",
        "    <tr>\n",
        "      <th>2015-02-18 00:00:00</th>\n",
        "      <td> 123888</td>\n",
        "      <td> 10366.52</td>\n",
        "      <td> 10481.85</td>\n",
        "      <td> 112842</td>\n",
        "      <td> 15585</td>\n",
        "    </tr>\n",
        "    <tr>\n",
        "      <th>2015-02-19 00:00:00</th>\n",
        "      <td> 123888</td>\n",
        "      <td> 10103.20</td>\n",
        "      <td> 10203.54</td>\n",
        "      <td>  98493</td>\n",
        "      <td> 10625</td>\n",
        "    </tr>\n",
        "    <tr>\n",
        "      <th>2015-02-20 00:00:00</th>\n",
        "      <td> 123888</td>\n",
        "      <td>  9893.92</td>\n",
        "      <td>  9978.50</td>\n",
        "      <td> 101103</td>\n",
        "      <td> 10834</td>\n",
        "    </tr>\n",
        "  </tbody>\n",
        "</table>\n",
        "</div>"
       ],
       "metadata": {},
       "output_type": "pyout",
       "prompt_number": 16,
       "text": [
        "                      ad_id     spend  spend_wfees  impressions  clicks\n",
        "date                                                                   \n",
        "2015-02-16 00:00:00  123888  11199.81     11282.45       114755   18002\n",
        "2015-02-17 00:00:00  123888   9104.37      9219.35       125398   12984\n",
        "2015-02-18 00:00:00  123888  10366.52     10481.85       112842   15585\n",
        "2015-02-19 00:00:00  123888  10103.20     10203.54        98493   10625\n",
        "2015-02-20 00:00:00  123888   9893.92      9978.50       101103   10834"
       ]
      }
     ],
     "prompt_number": 16
    },
    {
     "cell_type": "code",
     "collapsed": false,
     "input": [
      "daily_sum = ads.groupby(ads[\"date\"]).sum()\n",
      "daily_sum[\"ads\"] = ads.groupby(ads[\"date\"]).count()[\"ad_id\"]"
     ],
     "language": "python",
     "metadata": {},
     "outputs": [],
     "prompt_number": 24
    },
    {
     "cell_type": "code",
     "collapsed": false,
     "input": [
      "ads_group = ads.groupby('date')\n",
      "\n",
      "daily_sum = pd.DataFrame({'Count': ads_group.ad_id.count(),\n",
      "                          'Spend_Total': ads_group.spend.sum()})\n",
      "\n",
      "print daily_sum"
     ],
     "language": "python",
     "metadata": {},
     "outputs": [
      {
       "output_type": "stream",
       "stream": "stdout",
       "text": [
        "                     Count  Spend_Total\n",
        "date                                   \n",
        "2015-02-16 00:00:00     20     11199.81\n",
        "2015-02-17 00:00:00     20      9104.37\n",
        "2015-02-18 00:00:00     20     10366.52\n",
        "2015-02-19 00:00:00     20     10103.20\n",
        "2015-02-20 00:00:00     20      9893.92\n",
        "2015-02-21 00:00:00     20     10159.36\n",
        "2015-02-22 00:00:00     20     10377.71\n"
       ]
      }
     ],
     "prompt_number": 40
    },
    {
     "cell_type": "code",
     "collapsed": false,
     "input": [
      "print df.name"
     ],
     "language": "python",
     "metadata": {},
     "outputs": [
      {
       "output_type": "stream",
       "stream": "stdout",
       "text": [
        "None\n"
       ]
      }
     ],
     "prompt_number": 37
    },
    {
     "cell_type": "code",
     "collapsed": false,
     "input": [],
     "language": "python",
     "metadata": {},
     "outputs": []
    }
   ],
   "metadata": {}
  }
 ]
}